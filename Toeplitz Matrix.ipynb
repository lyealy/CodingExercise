{
 "cells": [
  {
   "cell_type": "markdown",
   "metadata": {},
   "source": [
    "A matrix is Toeplitz if every diagonal from top-left to bottom-right has the same element.\n",
    "\n",
    "Now given an M x N matrix, return True if and only if the matrix is Toeplitz.\n",
    "\n",
    "1. Input: matrix = [[1,2,3,4],[5,1,2,3],[9,5,1,2]]\n",
    "2. Output: True\n",
    "3. Explanation:\n",
    "4. 1234\n",
    "5. 5123\n",
    "6. 9512"
   ]
  },
  {
   "cell_type": "code",
   "execution_count": null,
   "metadata": {
    "collapsed": true
   },
   "outputs": [],
   "source": [
    "class Solution:\n",
    "    def isToeplitzMatrix(self, matrix):\n",
    "        \"\"\"\n",
    "        :type matrix: List[List[int]]\n",
    "        :rtype: bool\n",
    "        \"\"\"\n",
    "        fig = 1\n",
    "        for i in range(len(matrix)-1):\n",
    "            if matrix[i][0:-1] != matrix[i+1][1:]:\n",
    "                fig = 0\n",
    "                break\n",
    "        if fig == 1:\n",
    "            return True\n",
    "        else:\n",
    "            return False"
   ]
  }
 ],
 "metadata": {
  "kernelspec": {
   "display_name": "Python 3",
   "language": "python",
   "name": "python3"
  },
  "language_info": {
   "codemirror_mode": {
    "name": "ipython",
    "version": 3
   },
   "file_extension": ".py",
   "mimetype": "text/x-python",
   "name": "python",
   "nbconvert_exporter": "python",
   "pygments_lexer": "ipython3",
   "version": "3.6.3"
  }
 },
 "nbformat": 4,
 "nbformat_minor": 2
}
