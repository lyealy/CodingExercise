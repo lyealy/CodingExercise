{
 "cells": [
  {
   "cell_type": "markdown",
   "metadata": {},
   "source": [
    "You're now a baseball game point recorder.\n",
    "\n",
    "Given a list of strings, each string can be one of the 4 following types:\n",
    "\n",
    "Integer (one round's score): Directly represents the number of points you get in this round.\n",
    "\"+\" (one round's score): Represents that the points you get in this round are the sum of the last two valid round's points.\n",
    "\"D\" (one round's score): Represents that the points you get in this round are the doubled data of the last valid round's points.\n",
    "\"C\" (an operation, which isn't a round's score): Represents the last valid round's points you get were invalid and should be removed.\n",
    "Each round's operation is permanent and could have an impact on the round before and the round after.\n",
    "\n",
    "You need to return the sum of the points you could get in all the rounds."
   ]
  },
  {
   "cell_type": "code",
   "execution_count": 2,
   "metadata": {},
   "outputs": [
    {
     "data": {
      "text/plain": [
       "27"
      ]
     },
     "execution_count": 2,
     "metadata": {},
     "output_type": "execute_result"
    }
   ],
   "source": [
    "class Solution:\n",
    "    def calPoints(self, ops):\n",
    "        \"\"\"\n",
    "        :type ops: List[str]\n",
    "        :rtype: int\n",
    "        \"\"\"\n",
    "        result = 0\n",
    "        register = []\n",
    "        for ch in ops:\n",
    "            if ch == 'C':\n",
    "                result = result - register[-1]\n",
    "                register.pop()\n",
    "            elif ch == 'D':\n",
    "                addv = 2*register[-1]\n",
    "                result = result + addv\n",
    "                register.append(addv)\n",
    "            elif ch == '+':\n",
    "                addv = register[-1] + register[-2]\n",
    "                result = result + addv\n",
    "                register.append(addv)\n",
    "            else:\n",
    "                result = result + int(ch)\n",
    "                register.append(int(ch))\n",
    "        return result\n",
    "x = Solution()\n",
    "x.calPoints([\"5\",\"-2\",\"4\",\"C\",\"D\",\"9\",\"+\",\"+\"])"
   ]
  },
  {
   "cell_type": "code",
   "execution_count": null,
   "metadata": {
    "collapsed": true
   },
   "outputs": [],
   "source": []
  }
 ],
 "metadata": {
  "kernelspec": {
   "display_name": "Python 3",
   "language": "python",
   "name": "python3"
  },
  "language_info": {
   "codemirror_mode": {
    "name": "ipython",
    "version": 3
   },
   "file_extension": ".py",
   "mimetype": "text/x-python",
   "name": "python",
   "nbconvert_exporter": "python",
   "pygments_lexer": "ipython3",
   "version": "3.6.3"
  }
 },
 "nbformat": 4,
 "nbformat_minor": 2
}
