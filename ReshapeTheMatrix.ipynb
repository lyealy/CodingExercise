{
 "cells": [
  {
   "cell_type": "code",
   "execution_count": 2,
   "metadata": {},
   "outputs": [
    {
     "data": {
      "text/plain": [
       "[[2], [4], [1], [4]]"
      ]
     },
     "execution_count": 2,
     "metadata": {},
     "output_type": "execute_result"
    }
   ],
   "source": [
    "class Solution:\n",
    "    def matrixReshape(self, nums, r, c):\n",
    "        \"\"\"\n",
    "        :type nums: List[List[int]]\n",
    "        :type r: int\n",
    "        :type c: int\n",
    "        :rtype: List[List[int]]\n",
    "        \"\"\"\n",
    "        list_all = []\n",
    "        new_nums = []\n",
    "        for list1 in nums:\n",
    "            list_all.extend(list1)\n",
    "        if r*c != len(list_all):\n",
    "            return nums\n",
    "        else:\n",
    "            for i in range(r):\n",
    "                new_nums.append(list_all[i*c:(i+1)*c])\n",
    "            return new_nums\n",
    "x = Solution()\n",
    "x.matrixReshape([[2,4],[1,4]],4,1)"
   ]
  },
  {
   "cell_type": "code",
   "execution_count": null,
   "metadata": {
    "collapsed": true
   },
   "outputs": [],
   "source": []
  }
 ],
 "metadata": {
  "kernelspec": {
   "display_name": "Python 3",
   "language": "python",
   "name": "python3"
  },
  "language_info": {
   "codemirror_mode": {
    "name": "ipython",
    "version": 3
   },
   "file_extension": ".py",
   "mimetype": "text/x-python",
   "name": "python",
   "nbconvert_exporter": "python",
   "pygments_lexer": "ipython3",
   "version": "3.6.3"
  }
 },
 "nbformat": 4,
 "nbformat_minor": 2
}
