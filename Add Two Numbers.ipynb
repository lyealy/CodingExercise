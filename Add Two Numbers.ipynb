{
 "cells": [
  {
   "cell_type": "code",
   "execution_count": 1,
   "metadata": {
    "collapsed": true
   },
   "outputs": [],
   "source": [
    "# Definition for singly-linked list.\n",
    "# class ListNode:\n",
    "#     def __init__(self, x):\n",
    "#         self.val = x\n",
    "#         self.next = None\n",
    "\n",
    "class Solution:\n",
    "    def addTwoNumbers(self, l1, l2):\n",
    "        \"\"\"\n",
    "        :type l1: ListNode\n",
    "        :type l2: ListNode\n",
    "        :rtype: ListNode\n",
    "        \"\"\"\n",
    "        stack1 = []\n",
    "        stack2 = []\n",
    "        \n",
    "        while(l1):\n",
    "            stack1.append(str(l1.val))\n",
    "            l1 = l1.next\n",
    "        while(l2):\n",
    "            stack2.append(str(l2.val))\n",
    "            l2 = l2.next\n",
    "            \n",
    "        if len(stack1)==0:\n",
    "            s1 = 0\n",
    "        else:\n",
    "            s1 = stack1[::-1]\n",
    "            s1 = ''.join(s1)\n",
    "            s1 = int(s1)\n",
    "    \n",
    "        if len(stack2)==0:\n",
    "            s2 = 0\n",
    "        else:\n",
    "            s2 = stack2[::-1]\n",
    "            s2 = ''.join(s2)\n",
    "            s2 = int(s2)\n",
    "            \n",
    "        result = str(s1 + s2)\n",
    "        result = result[::-1]\n",
    "        return [int(x) for x in result]"
   ]
  }
 ],
 "metadata": {
  "kernelspec": {
   "display_name": "Python 3",
   "language": "python",
   "name": "python3"
  },
  "language_info": {
   "codemirror_mode": {
    "name": "ipython",
    "version": 3
   },
   "file_extension": ".py",
   "mimetype": "text/x-python",
   "name": "python",
   "nbconvert_exporter": "python",
   "pygments_lexer": "ipython3",
   "version": "3.6.3"
  }
 },
 "nbformat": 4,
 "nbformat_minor": 2
}
